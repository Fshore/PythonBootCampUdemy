{
 "cells": [
  {
   "cell_type": "code",
   "execution_count": 14,
   "metadata": {},
   "outputs": [
    {
     "name": "stdout",
     "output_type": "stream",
     "text": [
      "Distance ::  9.433981132056603\n",
      "Slope ::  1.6\n"
     ]
    }
   ],
   "source": [
    "import math\n",
    "class Line(object):\n",
    "    \n",
    "    def __init__(self,coor1,coor2):\n",
    "        self.coor1=coor1\n",
    "        self.coor2=coor2\n",
    "    \n",
    "    def distance(self):\n",
    "        distance = ((self.coor1[1]-self.coor2[1])**2 + (self.coor1[0]-self.coor2[0])**2)**0.5\n",
    "        \n",
    "        return distance\n",
    "    \n",
    "    def slope(self):\n",
    "        slope= ((self.coor1[1]-self.coor2[1])/(self.coor1[0]-self.coor2[0]))\n",
    "        return slope\n",
    "    \n",
    "l= Line((3,2),(8,10))\n",
    "print(\"Distance :: \" ,l.distance())\n",
    "print(\"Slope :: \",l.slope())\n",
    "#l.coor1[0]\n",
    "        "
   ]
  },
  {
   "cell_type": "code",
   "execution_count": 21,
   "metadata": {},
   "outputs": [
    {
     "name": "stdout",
     "output_type": "stream",
     "text": [
      "Volumne ::  56.52\n",
      "Surface Area ::  94.2\n"
     ]
    }
   ],
   "source": [
    "class Cylinder(object):\n",
    "    pi=3.14\n",
    "    def __init__(self,height=1,radius=1):\n",
    "        self.height=height\n",
    "        self.radius=radius\n",
    "        \n",
    "    def volume(self):\n",
    "        return ((Cylinder.pi * self.radius**2)*self.height)\n",
    "    \n",
    "    def surface_area(self):\n",
    "        return ((2*Cylinder.pi*self.radius*self.height)+ (2* Cylinder.pi * self.radius**2))\n",
    "c = Cylinder(2,3)\n",
    "print(\"Volumne :: \",c.volume())\n",
    "print(\"Surface Area :: \",c.surface_area() )"
   ]
  },
  {
   "cell_type": "code",
   "execution_count": null,
   "metadata": {
    "collapsed": true
   },
   "outputs": [],
   "source": []
  }
 ],
 "metadata": {
  "kernelspec": {
   "display_name": "Python 3",
   "language": "python",
   "name": "python3"
  },
  "language_info": {
   "codemirror_mode": {
    "name": "ipython",
    "version": 3
   },
   "file_extension": ".py",
   "mimetype": "text/x-python",
   "name": "python",
   "nbconvert_exporter": "python",
   "pygments_lexer": "ipython3",
   "version": "3.6.1"
  }
 },
 "nbformat": 4,
 "nbformat_minor": 2
}
