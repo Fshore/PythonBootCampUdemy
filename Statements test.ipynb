{
 "cells": [
  {
   "cell_type": "code",
   "execution_count": 6,
   "metadata": {},
   "outputs": [
    {
     "name": "stdout",
     "output_type": "stream",
     "text": [
      "Print only the words that start with s in this sentence\n",
      "start\n",
      "s\n",
      "sentence\n"
     ]
    }
   ],
   "source": [
    "st = 'Print only the words that start with s in this sentence'\n",
    "print(st)\n",
    "\n",
    "for words in st.split():\n",
    "    if words[0]=='s':\n",
    "        print(words)\n",
    "\n"
   ]
  },
  {
   "cell_type": "code",
   "execution_count": 10,
   "metadata": {},
   "outputs": [
    {
     "name": "stdout",
     "output_type": "stream",
     "text": [
      "range(0, 11, 2)\n"
     ]
    }
   ],
   "source": [
    "print(range(0,11,2))"
   ]
  },
  {
   "cell_type": "raw",
   "metadata": {},
   "source": [
    "[x for x in range(1,50) if x%3 == 0]"
   ]
  },
  {
   "cell_type": "code",
   "execution_count": null,
   "metadata": {
    "collapsed": true
   },
   "outputs": [],
   "source": []
  },
  {
   "cell_type": "code",
   "execution_count": 11,
   "metadata": {},
   "outputs": [
    {
     "data": {
      "text/plain": [
       "[3, 6, 9, 12, 15, 18, 21, 24, 27, 30, 33, 36, 39, 42, 45, 48]"
      ]
     },
     "execution_count": 11,
     "metadata": {},
     "output_type": "execute_result"
    }
   ],
   "source": [
    "[x for x in range(1,50) if x%3 == 0]"
   ]
  },
  {
   "cell_type": "code",
   "execution_count": 12,
   "metadata": {},
   "outputs": [
    {
     "data": {
      "text/plain": [
       "range(0, 11)"
      ]
     },
     "execution_count": 12,
     "metadata": {},
     "output_type": "execute_result"
    }
   ],
   "source": [
    "range(0,11)"
   ]
  },
  {
   "cell_type": "code",
   "execution_count": 20,
   "metadata": {},
   "outputs": [
    {
     "name": "stdout",
     "output_type": "stream",
     "text": [
      "word  :: even!!\n",
      "in  :: even!!\n",
      "this  :: even!!\n",
      "sentence  :: even!!\n",
      "that  :: even!!\n",
      "an  :: even!!\n",
      "even  :: even!!\n",
      "number  :: even!!\n",
      "of  :: even!!\n"
     ]
    }
   ],
   "source": [
    "st = 'Print every word in this sentence that has an even number of letters'\n",
    "for words in st.split():\n",
    "    if len(words)%2==0:\n",
    "        print(words + '  :: even!!')"
   ]
  },
  {
   "cell_type": "code",
   "execution_count": 27,
   "metadata": {},
   "outputs": [
    {
     "name": "stdout",
     "output_type": "stream",
     "text": [
      "3\n",
      "Fizz\n",
      "5\n",
      "Buzz\n",
      "6\n",
      "Fizz\n",
      "9\n",
      "Fizz\n",
      "10\n",
      "Buzz\n",
      "12\n",
      "Fizz\n",
      "15\n",
      "FizzBuzz\n",
      "18\n",
      "Fizz\n",
      "20\n",
      "Buzz\n",
      "21\n",
      "Fizz\n",
      "24\n",
      "Fizz\n",
      "25\n",
      "Buzz\n",
      "27\n",
      "Fizz\n",
      "30\n",
      "FizzBuzz\n",
      "33\n",
      "Fizz\n",
      "35\n",
      "Buzz\n",
      "36\n",
      "Fizz\n",
      "39\n",
      "Fizz\n",
      "40\n",
      "Buzz\n",
      "42\n",
      "Fizz\n",
      "45\n",
      "FizzBuzz\n",
      "48\n",
      "Fizz\n",
      "50\n",
      "Buzz\n",
      "51\n",
      "Fizz\n",
      "54\n",
      "Fizz\n",
      "55\n",
      "Buzz\n",
      "57\n",
      "Fizz\n",
      "60\n",
      "FizzBuzz\n",
      "63\n",
      "Fizz\n",
      "65\n",
      "Buzz\n",
      "66\n",
      "Fizz\n",
      "69\n",
      "Fizz\n",
      "70\n",
      "Buzz\n",
      "72\n",
      "Fizz\n",
      "75\n",
      "FizzBuzz\n",
      "78\n",
      "Fizz\n",
      "80\n",
      "Buzz\n",
      "81\n",
      "Fizz\n",
      "84\n",
      "Fizz\n",
      "85\n",
      "Buzz\n",
      "87\n",
      "Fizz\n",
      "90\n",
      "FizzBuzz\n",
      "93\n",
      "Fizz\n",
      "95\n",
      "Buzz\n",
      "96\n",
      "Fizz\n",
      "99\n",
      "Fizz\n",
      "100\n",
      "Buzz\n"
     ]
    }
   ],
   "source": [
    "for num in list(range(1,101)):\n",
    "    if num%3==0 and num%5==0:\n",
    "        print(num)\n",
    "        print(\"FizzBuzz\")\n",
    "    elif num%3==0:\n",
    "        print(num)\n",
    "        print(\"Fizz\")\n",
    "    elif num%5==0:\n",
    "        print(num)\n",
    "        print(\"Buzz\")"
   ]
  },
  {
   "cell_type": "code",
   "execution_count": 28,
   "metadata": {},
   "outputs": [
    {
     "data": {
      "text/plain": [
       "['C', 'a', 'l', 'o', 't', 'f', 'l', 'o', 'e', 'w', 'i', 't', 's']"
      ]
     },
     "execution_count": 28,
     "metadata": {},
     "output_type": "execute_result"
    }
   ],
   "source": [
    "st = 'Create a list of the first letters of every word in this string'\n",
    "[word[0] for word in st.split()]"
   ]
  },
  {
   "cell_type": "code",
   "execution_count": null,
   "metadata": {
    "collapsed": true
   },
   "outputs": [],
   "source": []
  }
 ],
 "metadata": {
  "kernelspec": {
   "display_name": "Python 3",
   "language": "python",
   "name": "python3"
  },
  "language_info": {
   "codemirror_mode": {
    "name": "ipython",
    "version": 3
   },
   "file_extension": ".py",
   "mimetype": "text/x-python",
   "name": "python",
   "nbconvert_exporter": "python",
   "pygments_lexer": "ipython3",
   "version": "3.6.1"
  }
 },
 "nbformat": 4,
 "nbformat_minor": 2
}
